{
  "nbformat": 4,
  "nbformat_minor": 0,
  "metadata": {
    "colab": {
      "name": "MNIST_Classification_CNN_.ipynb",
      "version": "0.3.2",
      "provenance": [],
      "collapsed_sections": [],
      "toc_visible": true,
      "include_colab_link": true
    },
    "kernelspec": {
      "name": "python3",
      "display_name": "Python 3"
    }
  },
  "cells": [
    {
      "cell_type": "markdown",
      "metadata": {
        "id": "view-in-github",
        "colab_type": "text"
      },
      "source": [
        "<a href=\"https://colab.research.google.com/github/shashankvmaiya/Image-Classification-CNN-Keras/blob/master/MNIST_Classification_CNN_.ipynb\" target=\"_parent\"><img src=\"https://colab.research.google.com/assets/colab-badge.svg\" alt=\"Open In Colab\"/></a>"
      ]
    },
    {
      "metadata": {
        "id": "shAldMfcVoUz",
        "colab_type": "text"
      },
      "cell_type": "markdown",
      "source": [
        "# MNIST Images Classification with Convolutional Neural Networks & Keras"
      ]
    },
    {
      "metadata": {
        "id": "1WJ1i9dRV5Vy",
        "colab_type": "text"
      },
      "cell_type": "markdown",
      "source": [
        "## Introduction"
      ]
    },
    {
      "metadata": {
        "id": "dcdpTop3WLwC",
        "colab_type": "text"
      },
      "cell_type": "markdown",
      "source": [
        "**Mounting Google Drive into Google Colab Workspace**  \n",
        "The data are all saved in my Google Drive "
      ]
    },
    {
      "metadata": {
        "id": "3YcoSGz7M_Qc",
        "colab_type": "code",
        "outputId": "ca76194b-d54d-497a-931e-ad3c8db0668a",
        "colab": {
          "base_uri": "https://localhost:8080/",
          "height": 34
        }
      },
      "cell_type": "code",
      "source": [
        "import sys\n",
        "from google.colab import drive\n",
        "drive.mount('/content/gdrive')\n",
        "sys.path.append('/content/gdrive/My Drive/Colab Notebooks')"
      ],
      "execution_count": 56,
      "outputs": [
        {
          "output_type": "stream",
          "text": [
            "Drive already mounted at /content/gdrive; to attempt to forcibly remount, call drive.mount(\"/content/gdrive\", force_remount=True).\n"
          ],
          "name": "stdout"
        }
      ]
    },
    {
      "metadata": {
        "id": "LmalRx3nWktS",
        "colab_type": "text"
      },
      "cell_type": "markdown",
      "source": [
        "**Imports**"
      ]
    },
    {
      "metadata": {
        "id": "f4LBvOj4Oin_",
        "colab_type": "code",
        "colab": {}
      },
      "cell_type": "code",
      "source": [
        "# Ignore  the warnings\n",
        "import warnings\n",
        "warnings.filterwarnings('always')\n",
        "warnings.filterwarnings('ignore')\n",
        "\n",
        "import numpy as np\n",
        "import pandas as pd\n",
        "import matplotlib.pyplot as plt\n",
        "import seaborn as sns\n",
        "import re\n",
        "import math\n",
        "import gzip\n",
        "import os.path\n",
        "rdm_seed = 29\n",
        "np.random.seed(rdm_seed)\n",
        "\n",
        "from sklearn.model_selection import train_test_split\n",
        "from sklearn.metrics import confusion_matrix\n",
        "import keras\n",
        "from keras.utils import np_utils\n",
        "from keras.models import Sequential\n",
        "from keras.layers import Dense, Dropout, Flatten, Conv2D, MaxPooling2D\n",
        "from keras.optimizers import SGD\n",
        "from keras.callbacks import ReduceLROnPlateau\n",
        "from keras.models import load_model\n"
      ],
      "execution_count": 0,
      "outputs": []
    },
    {
      "metadata": {
        "id": "PVWBThj4W5K-",
        "colab_type": "text"
      },
      "cell_type": "markdown",
      "source": [
        "### Loading the data\n",
        "Few details about the file format (obtained from [Original Host Website](http://yann.lecun.com/exdb/mnist/)) \n",
        "All the integers in the files are stored in the MSB first (high endian) format. There are 4 files containing {train, test} x {data, labels}. \n",
        "* train-images-idx3-ubyte.gz - contains training data (images)\n",
        "* train-labels-idx1-ubyte.gz - contains the training labels\n",
        "* t10k-images-idx3-ubyte.gz - contains the testing data (images)\n",
        "* t10k-labels-idx1-ubyte.tz - contains the testing labels\n",
        "\n",
        "The training set contains 60000 examples, and the test set 10000 examples. The data are all stored in uint8 format and zipped in .gz files. We use gzip tool to load the data and convert the data into np arrays.\n",
        "\n",
        "The data (image) files are stored as follows\n",
        "* The first 16 (8-bit) entries contain information about the image data\n",
        "  * data[6], data[7] store the number of images in the file\n",
        "  * data[11] contains the number of rows used to store each image\n",
        "  * data[15] contains the number of columns used to store each image\n",
        "The label files are stored as follows\n",
        "* The first 8 (8-bit) entries contain information about the label data\n",
        "  * data[6], data[7] contains the number of labels in the file"
      ]
    },
    {
      "metadata": {
        "id": "re1bll_bi7qJ",
        "colab_type": "code",
        "colab": {}
      },
      "cell_type": "code",
      "source": [
        "f = gzip.open('gdrive/My Drive/Colab Notebooks/MNIST_Data/train-labels-idx1-ubyte.gz','r')\n",
        "data = np.frombuffer(f.read(8), dtype=np.uint8).astype(np.int64)\n",
        "num_labels = data[6]*2**8+data[7]\n",
        "y_train = np.frombuffer(f.read(num_labels), dtype=np.uint8).astype(np.int64)\n",
        "y_train = pd.DataFrame(y_train, columns = ['Labels'])"
      ],
      "execution_count": 0,
      "outputs": []
    },
    {
      "metadata": {
        "id": "EzYRv_d6TpeI",
        "colab_type": "code",
        "colab": {}
      },
      "cell_type": "code",
      "source": [
        "f = gzip.open('gdrive/My Drive/Colab Notebooks/MNIST_Data/train-images-idx3-ubyte.gz','r')\n",
        "data = np.frombuffer(f.read(16), dtype=np.uint8).astype(np.int64)\n",
        "train_num_images = data[6]*2**8+data[7]\n",
        "train_image_size = [data[11], data[15]]\n",
        "buf = f.read(train_image_size[0] * train_image_size[1] * train_num_images)\n",
        "X_train = np.frombuffer(buf, dtype=np.uint8).astype(np.float32)\n",
        "X_train = X_train.reshape(train_num_images, train_image_size[0]*train_image_size[1])\n",
        "X_train = pd.DataFrame(X_train)"
      ],
      "execution_count": 0,
      "outputs": []
    },
    {
      "metadata": {
        "id": "VCtglG9TVPJE",
        "colab_type": "code",
        "colab": {}
      },
      "cell_type": "code",
      "source": [
        "f = gzip.open('gdrive/My Drive/Colab Notebooks/MNIST_Data/t10k-labels-idx1-ubyte.gz','r')\n",
        "data = np.frombuffer(f.read(8), dtype=np.uint8).astype(np.int64)\n",
        "num_labels = data[6]*2**8+data[7]\n",
        "y_test = np.frombuffer(f.read(num_labels), dtype=np.uint8).astype(np.int64)\n",
        "y_test = pd.DataFrame(y_test, columns = ['Labels'])"
      ],
      "execution_count": 0,
      "outputs": []
    },
    {
      "metadata": {
        "id": "DGIjQZRNVZ4a",
        "colab_type": "code",
        "colab": {}
      },
      "cell_type": "code",
      "source": [
        "f = gzip.open('gdrive/My Drive/Colab Notebooks/MNIST_Data/t10k-images-idx3-ubyte.gz','r')\n",
        "data = np.frombuffer(f.read(16), dtype=np.uint8).astype(np.int64)\n",
        "test_num_images = data[6]*2**8+data[7]\n",
        "test_image_size = [data[11], data[15]]\n",
        "buf = f.read(test_image_size[0] * test_image_size[1] * test_num_images)\n",
        "X_test = np.frombuffer(buf, dtype=np.uint8).astype(np.float32)\n",
        "X_test = X_test.reshape(test_num_images, test_image_size[0]*test_image_size[1])\n",
        "X_test = pd.DataFrame(X_test)"
      ],
      "execution_count": 0,
      "outputs": []
    },
    {
      "metadata": {
        "id": "xA5-rMwxbOUa",
        "colab_type": "text"
      },
      "cell_type": "markdown",
      "source": [
        "## Exploratory Data Analysis"
      ]
    },
    {
      "metadata": {
        "id": "IXu8o_VmbGNy",
        "colab_type": "text"
      },
      "cell_type": "markdown",
      "source": [
        "**Shape of training and testing data sets**"
      ]
    },
    {
      "metadata": {
        "id": "PZ-M-DTMYkna",
        "colab_type": "code",
        "outputId": "68dd8f7c-1fac-441a-af3f-1e4e19b7b4cd",
        "colab": {
          "base_uri": "https://localhost:8080/",
          "height": 85
        }
      },
      "cell_type": "code",
      "source": [
        "print('Shape of train data set: ', X_train.shape)\n",
        "print('Shape of train label set: ', y_train.shape)\n",
        "print('Shape of test data set: ', X_test.shape)\n",
        "print('Shape of test label set: ', y_test.shape)"
      ],
      "execution_count": 63,
      "outputs": [
        {
          "output_type": "stream",
          "text": [
            "Shape of train data set:  (60000, 784)\n",
            "Shape of train label set:  (60000, 1)\n",
            "Shape of test data set:  (10000, 784)\n",
            "Shape of test label set:  (10000, 1)\n"
          ],
          "name": "stdout"
        }
      ]
    },
    {
      "metadata": {
        "id": "iYviEMvqjxH0",
        "colab_type": "text"
      },
      "cell_type": "markdown",
      "source": [
        "### Missing Values"
      ]
    },
    {
      "metadata": {
        "id": "svJbxMUDeoLS",
        "colab_type": "code",
        "outputId": "f14462ae-2d15-46d6-dcce-d9c9988a5925",
        "colab": {
          "base_uri": "https://localhost:8080/",
          "height": 51
        }
      },
      "cell_type": "code",
      "source": [
        "print('Does any of the training data set values contain Null data?', X_train.isnull().any().any())\n",
        "print('Does any of the test data set values contain Null data?', X_test.isnull().any().any())"
      ],
      "execution_count": 64,
      "outputs": [
        {
          "output_type": "stream",
          "text": [
            "Does any of the training data set values contain Null data? False\n",
            "Does any of the test data set values contain Null data? False\n"
          ],
          "name": "stdout"
        }
      ]
    },
    {
      "metadata": {
        "id": "QRiV9mNUknt2",
        "colab_type": "text"
      },
      "cell_type": "markdown",
      "source": [
        "None of the images seem to be corrupt and the dataset is clean with no NULL values. "
      ]
    },
    {
      "metadata": {
        "id": "QtYCJEutlBv9",
        "colab_type": "text"
      },
      "cell_type": "markdown",
      "source": [
        "### Distribution of Labels"
      ]
    },
    {
      "metadata": {
        "id": "yNTT5-KclF3v",
        "colab_type": "code",
        "outputId": "0af269b0-de6f-4b60-d753-792c8a9a7e30",
        "colab": {
          "base_uri": "https://localhost:8080/",
          "height": 204
        }
      },
      "cell_type": "code",
      "source": [
        "y_train['Labels'].value_counts()"
      ],
      "execution_count": 65,
      "outputs": [
        {
          "output_type": "execute_result",
          "data": {
            "text/plain": [
              "1    6742\n",
              "7    6265\n",
              "3    6131\n",
              "2    5958\n",
              "9    5949\n",
              "0    5923\n",
              "6    5918\n",
              "8    5851\n",
              "4    5842\n",
              "5    5421\n",
              "Name: Labels, dtype: int64"
            ]
          },
          "metadata": {
            "tags": []
          },
          "execution_count": 65
        }
      ]
    },
    {
      "metadata": {
        "id": "J90J06Qflfxi",
        "colab_type": "code",
        "outputId": "2dc3d2ef-ace4-42c4-bc83-041e0a9029fc",
        "colab": {
          "base_uri": "https://localhost:8080/",
          "height": 376
        }
      },
      "cell_type": "code",
      "source": [
        "sns.countplot(y_train['Labels'])\n",
        "plt.title('Number of occurences of each digit in the MNIST training data set')\n",
        "plt.show()"
      ],
      "execution_count": 66,
      "outputs": [
        {
          "output_type": "display_data",
          "data": {
            "image/png": "[encoded data removed]",
            "text/plain": [
              "<Figure size 576x396 with 1 Axes>"
            ]
          },
          "metadata": {
            "tags": []
          }
        }
      ]
    },
    {
      "metadata": {
        "id": "qEHkhc0WlpdJ",
        "colab_type": "text"
      },
      "cell_type": "markdown",
      "source": [
        "**Observations**\n",
        "* The disribution of each of the digits are fairly \n",
        "* Minimum occurence digit is 5 with count value of 5421 \n",
        "* Maximum occurence digit is 1 with count value of 6742 "
      ]
    },
    {
      "metadata": {
        "colab_type": "text",
        "id": "QYc-ZsSNWh3C"
      },
      "cell_type": "markdown",
      "source": [
        "### Image Plots\n",
        "Below are plots of the first 15 MSIT digit images and its corresponding labels as the title. "
      ]
    },
    {
      "metadata": {
        "id": "1Fuy0EcvqUU0",
        "colab_type": "code",
        "outputId": "bdcb5311-8733-49d0-ce8d-1450df55d8c7",
        "colab": {
          "base_uri": "https://localhost:8080/",
          "height": 543
        }
      },
      "cell_type": "code",
      "source": [
        "fig = plt.figure(figsize=(10, 10))\n",
        "for i in range(15):\n",
        "  axes = fig.add_subplot(3, 5, i+1)\n",
        "  image = np.asarray(X_train.loc[i,:].values.reshape(28, 28)).squeeze()\n",
        "  plt.imshow(image)\n",
        "  plt.title('Digit: {0}'.format(y_train.loc[i, 'Labels']))\n",
        "\n",
        "plt.show()"
      ],
      "execution_count": 67,
      "outputs": [
        {
          "output_type": "display_data",
          "data": {
            "image/png": "[encoded data removed]",
            "text/plain": [
              "<Figure size 720x720 with 15 Axes>"
            ]
          },
          "metadata": {
            "tags": []
          }
        }
      ]
    },
    {
      "metadata": {
        "id": "1JgnKSO2k6YV",
        "colab_type": "text"
      },
      "cell_type": "markdown",
      "source": [
        "### Feature Engineering\n",
        "\n",
        "**Normalization**  \n",
        "The pixel values lie between 0 and 255. We normalize it to the range between 0 and 1 for better CNN convergence"
      ]
    },
    {
      "metadata": {
        "id": "ownzWhp6rfOm",
        "colab_type": "code",
        "colab": {}
      },
      "cell_type": "code",
      "source": [
        "X_train = X_train/255.0\n",
        "X_test = X_test/255.0"
      ],
      "execution_count": 0,
      "outputs": []
    },
    {
      "metadata": {
        "id": "ETYa_b7gtJlx",
        "colab_type": "text"
      },
      "cell_type": "markdown",
      "source": [
        "**One-Hot Encoding**  \n",
        "To use keras, we have to first one-hot encode the y-labels. This essentially converts each of the labels (which ranges from 0 to 9) into a 10-length binary vector with one and only one of the position = 1 (which corresponds to the label value)"
      ]
    },
    {
      "metadata": {
        "id": "_AYf2V0LsZoI",
        "colab_type": "text"
      },
      "cell_type": "markdown",
      "source": [
        "**Reshaping**  \n",
        "All the images stored in pandas DataFrame is in the form 1D Vectors of length 784 (= 28x28). We reshape them all to 28x28x1 3D matrix. Keras requires an extra dimension in the end which correspond to channels. MNIST images are gray scaled so it use only one channel. For RGB images, there is 3 channels, we would have reshaped 784px vectors to 28x28x3 3D matrices"
      ]
    },
    {
      "metadata": {
        "id": "pdRRLuY2vpxI",
        "colab_type": "code",
        "colab": {}
      },
      "cell_type": "code",
      "source": [
        "y_train = np_utils.to_categorical(y_train, num_classes = 10)\n",
        "y_test = np_utils.to_categorical(y_test, num_classes = 10)"
      ],
      "execution_count": 0,
      "outputs": []
    },
    {
      "metadata": {
        "id": "Guf0C42ns6Gy",
        "colab_type": "code",
        "colab": {}
      },
      "cell_type": "code",
      "source": [
        "X_train = X_train.values.reshape(-1, 28, 28, 1)\n",
        "X_test = X_test.values.reshape(-1, 28, 28, 1)"
      ],
      "execution_count": 0,
      "outputs": []
    },
    {
      "metadata": {
        "id": "Sj_Q3AzItwI-",
        "colab_type": "code",
        "outputId": "c3cc7e96-b940-4916-ba5b-bda71d529d20",
        "colab": {
          "base_uri": "https://localhost:8080/",
          "height": 85
        }
      },
      "cell_type": "code",
      "source": [
        "print('Shape of train data set: ', X_train.shape)\n",
        "print('Shape of train label set: ', y_train.shape)\n",
        "print('Shape of test data set: ', X_test.shape)\n",
        "print('Shape of test label set: ', y_test.shape)"
      ],
      "execution_count": 71,
      "outputs": [
        {
          "output_type": "stream",
          "text": [
            "Shape of train data set:  (60000, 28, 28, 1)\n",
            "Shape of train label set:  (60000, 10)\n",
            "Shape of test data set:  (10000, 28, 28, 1)\n",
            "Shape of test label set:  (10000, 10)\n"
          ],
          "name": "stdout"
        }
      ]
    },
    {
      "metadata": {
        "id": "oqKNcbjagf_U",
        "colab_type": "text"
      },
      "cell_type": "markdown",
      "source": [
        "## Modeling"
      ]
    },
    {
      "metadata": {
        "id": "1C-HKAQvxEmf",
        "colab_type": "text"
      },
      "cell_type": "markdown",
      "source": [
        "### Train-Validation Split\n",
        "Let us split the dataset with 90% as the training data set and the remaining 10% as our validation set. We use train_test_split since all the labels are more or less evenly occuring. Else we could have used stratified split"
      ]
    },
    {
      "metadata": {
        "id": "Spi5wgzzwjNA",
        "colab_type": "code",
        "colab": {}
      },
      "cell_type": "code",
      "source": [
        "X_train, X_val, y_train, y_val = train_test_split(X_train, y_train, test_size = 0.1, random_state=rdm_seed)"
      ],
      "execution_count": 0,
      "outputs": []
    },
    {
      "metadata": {
        "id": "qTxmSJvF3yX4",
        "colab_type": "text"
      },
      "cell_type": "markdown",
      "source": [
        "### CNN Model"
      ]
    },
    {
      "metadata": {
        "id": "XA5NhtCNwkWz",
        "colab_type": "code",
        "colab": {}
      },
      "cell_type": "code",
      "source": [
        "model = Sequential()\n",
        "model.add(Conv2D(filters = 32, kernel_size = (3,3), padding = 'Same', activation ='relu', input_shape = (28,28,1)))\n",
        "model.add(MaxPooling2D(pool_size=(2,2), strides=(2,2)))\n",
        "model.add(Dropout(0.2))\n",
        "model.add(Conv2D(filters = 128, kernel_size = (3,3), padding = 'Same', activation ='relu'))\n",
        "model.add(MaxPooling2D(pool_size=(2,2), strides=(2,2)))\n",
        "model.add(Dropout(0.2))\n",
        "model.add(Conv2D(filters = 512, kernel_size = (3,3), padding = 'Same', activation ='relu'))\n",
        "model.add(Dropout(0.2))\n",
        "model.add(Flatten())\n",
        "model.add(Dense(1000, activation = \"relu\"))\n",
        "model.add(Dropout(0.2))\n",
        "model.add(Dense(500, activation = \"relu\"))\n",
        "model.add(Dropout(0.5))\n",
        "model.add(Dense(10, activation = \"softmax\"))\n",
        "\n",
        "lr_reduction = ReduceLROnPlateau(monitor='val_acc', \n",
        "                                            patience=3, \n",
        "                                            verbose=1, \n",
        "                                            factor=0.5, \n",
        "                                            min_lr=0.0001)\n",
        "sgd_optimizer = SGD(lr = 0.01)\n",
        "model.compile(loss='categorical_crossentropy', optimizer=sgd_optimizer, metrics=['accuracy'])"
      ],
      "execution_count": 0,
      "outputs": []
    },
    {
      "metadata": {
        "id": "8MEbo4uGE2ir",
        "colab_type": "code",
        "colab": {
          "base_uri": "https://localhost:8080/",
          "height": 612
        },
        "outputId": "6476fec6-9648-4905-b5e6-64c7019d72db"
      },
      "cell_type": "code",
      "source": [
        "model.summary()"
      ],
      "execution_count": 32,
      "outputs": [
        {
          "output_type": "stream",
          "text": [
            "_________________________________________________________________\n",
            "Layer (type)                 Output Shape              Param #   \n",
            "=================================================================\n",
            "conv2d_8 (Conv2D)            (None, 28, 28, 32)        320       \n",
            "_________________________________________________________________\n",
            "max_pooling2d_5 (MaxPooling2 (None, 14, 14, 32)        0         \n",
            "_________________________________________________________________\n",
            "dropout_11 (Dropout)         (None, 14, 14, 32)        0         \n",
            "_________________________________________________________________\n",
            "conv2d_9 (Conv2D)            (None, 14, 14, 128)       36992     \n",
            "_________________________________________________________________\n",
            "max_pooling2d_6 (MaxPooling2 (None, 7, 7, 128)         0         \n",
            "_________________________________________________________________\n",
            "dropout_12 (Dropout)         (None, 7, 7, 128)         0         \n",
            "_________________________________________________________________\n",
            "conv2d_10 (Conv2D)           (None, 7, 7, 512)         590336    \n",
            "_________________________________________________________________\n",
            "dropout_13 (Dropout)         (None, 7, 7, 512)         0         \n",
            "_________________________________________________________________\n",
            "flatten_3 (Flatten)          (None, 25088)             0         \n",
            "_________________________________________________________________\n",
            "dense_7 (Dense)              (None, 1000)              25089000  \n",
            "_________________________________________________________________\n",
            "dropout_14 (Dropout)         (None, 1000)              0         \n",
            "_________________________________________________________________\n",
            "dense_8 (Dense)              (None, 500)               500500    \n",
            "_________________________________________________________________\n",
            "dropout_15 (Dropout)         (None, 500)               0         \n",
            "_________________________________________________________________\n",
            "dense_9 (Dense)              (None, 10)                5010      \n",
            "=================================================================\n",
            "Total params: 26,222,158\n",
            "Trainable params: 26,222,158\n",
            "Non-trainable params: 0\n",
            "_________________________________________________________________\n"
          ],
          "name": "stdout"
        }
      ]
    },
    {
      "metadata": {
        "id": "gL9pcYvKwkfR",
        "colab_type": "code",
        "colab": {}
      },
      "cell_type": "code",
      "source": [
        "epochs = 10\n",
        "batch_size = 128"
      ],
      "execution_count": 0,
      "outputs": []
    },
    {
      "metadata": {
        "id": "wTgjnGh-wkmN",
        "colab_type": "code",
        "colab": {
          "base_uri": "https://localhost:8080/",
          "height": 156
        },
        "outputId": "68362a9b-7183-41ec-f8b4-9ec271635755"
      },
      "cell_type": "code",
      "source": [
        "model.fit(X_train, y_train,\n",
        "          batch_size=batch_size,\n",
        "          epochs=epochs,\n",
        "          verbose=1,\n",
        "          validation_data=(X_val, y_val),\n",
        "          callbacks=[lr_reduction])"
      ],
      "execution_count": 26,
      "outputs": [
        {
          "output_type": "stream",
          "text": [
            "WARNING:tensorflow:From /usr/local/lib/python3.6/dist-packages/tensorflow/python/ops/math_ops.py:3066: to_int32 (from tensorflow.python.ops.math_ops) is deprecated and will be removed in a future version.\n",
            "Instructions for updating:\n",
            "Use tf.cast instead.\n",
            "Train on 54000 samples, validate on 6000 samples\n",
            "Epoch 1/1\n",
            "54000/54000 [==============================] - 551s 10ms/step - loss: 1.6662 - acc: 0.4686 - val_loss: 0.4952 - val_acc: 0.8473\n"
          ],
          "name": "stdout"
        },
        {
          "output_type": "execute_result",
          "data": {
            "text/plain": [
              "<keras.callbacks.History at 0x7fc45c6515f8>"
            ]
          },
          "metadata": {
            "tags": []
          },
          "execution_count": 26
        }
      ]
    },
    {
      "metadata": {
        "id": "xEcu2-HgCBzv",
        "colab_type": "text"
      },
      "cell_type": "markdown",
      "source": [
        "### Saving the Model"
      ]
    },
    {
      "metadata": {
        "id": "aLVy4qWVCO25",
        "colab_type": "code",
        "colab": {
          "base_uri": "https://localhost:8080/",
          "height": 34
        },
        "outputId": "13a3128d-013e-4711-8400-02fa019f4fc5"
      },
      "cell_type": "code",
      "source": [
        "save_dir = \"gdrive/My Drive/Colab Notebooks/MNIST_Data/\"\n",
        "model_name = 'keras_mnist.h5'\n",
        "model_path = os.path.join(save_dir, model_name)\n",
        "model.save(model_path)\n",
        "print('Saved trained model at {0} '.format(model_path))"
      ],
      "execution_count": 29,
      "outputs": [
        {
          "output_type": "stream",
          "text": [
            "Saved trained model at gdrive/My Drive/Colab Notebooks/MNIST_Data/keras_mnist.h5 \n"
          ],
          "name": "stdout"
        }
      ]
    },
    {
      "metadata": {
        "id": "rPPsozGlBqv8",
        "colab_type": "text"
      },
      "cell_type": "markdown",
      "source": [
        "### Model Evaluation"
      ]
    },
    {
      "metadata": {
        "id": "zsK9P-QnwlAS",
        "colab_type": "code",
        "colab": {}
      },
      "cell_type": "code",
      "source": [
        "model_path = \"gdrive/My Drive/Colab Notebooks/MNIST_Data/keras_mnist.h5\"\n",
        "mnist_model = load_model(model_path)"
      ],
      "execution_count": 0,
      "outputs": []
    },
    {
      "metadata": {
        "id": "VgjicWSeF5Bu",
        "colab_type": "code",
        "colab": {}
      },
      "cell_type": "code",
      "source": [
        "y_pred = mnist_model.predict(X_val)"
      ],
      "execution_count": 0,
      "outputs": []
    },
    {
      "metadata": {
        "id": "rM-nD7VSGQRi",
        "colab_type": "code",
        "colab": {
          "base_uri": "https://localhost:8080/",
          "height": 187
        },
        "outputId": "b649e352-e975-4935-b662-de03facb1089"
      },
      "cell_type": "code",
      "source": [
        "y_val_pred = np.argmax(y_pred, axis=1)\n",
        "y_val_true = np.argmax(y_val, axis=1)\n",
        "confusion_matrix(y_val_true, y_val_pred)"
      ],
      "execution_count": 39,
      "outputs": [
        {
          "output_type": "execute_result",
          "data": {
            "text/plain": [
              "array([[626,   0,   3,   0,   1,   0,   2,   0,   8,   0],\n",
              "       [  0, 623,   5,   3,   2,   5,   4,   0,   9,   2],\n",
              "       [ 25,   4, 487,   6,  10,   1,  30,   8,  25,   0],\n",
              "       [ 16,   6,  18, 508,   2,  31,   2,  12,  35,   3],\n",
              "       [  6,   0,   7,   0, 413,   0,  32,   4,  13, 100],\n",
              "       [ 53,   2,   9,  25,  19, 417,  12,   1,  17,   3],\n",
              "       [ 29,   8,  11,   0,   1,  11, 525,   0,   1,   0],\n",
              "       [  8,   5,   4,   0,   4,   1,   0, 515,   6,  34],\n",
              "       [ 25,   6,   3,  20,   3,  20,   4,   8, 502,   8],\n",
              "       [ 13,   2,   6,   3,   8,   4,   1,  61,  17, 468]])"
            ]
          },
          "metadata": {
            "tags": []
          },
          "execution_count": 39
        }
      ]
    },
    {
      "metadata": {
        "id": "-h5t1yfBGpPV",
        "colab_type": "code",
        "colab": {}
      },
      "cell_type": "code",
      "source": [
        "y_pred = mnist_model.predict(X_test)"
      ],
      "execution_count": 0,
      "outputs": []
    },
    {
      "metadata": {
        "id": "zmjYRT3NGvBL",
        "colab_type": "code",
        "colab": {
          "base_uri": "https://localhost:8080/",
          "height": 187
        },
        "outputId": "a7e7c928-7c9f-4749-b803-653347957b6d"
      },
      "cell_type": "code",
      "source": [
        "y_test_pred = np.argmax(y_pred, axis=1)\n",
        "y_test_true = np.argmax(y_test, axis=1)\n",
        "confusion_matrix(y_test_true, y_test_pred)"
      ],
      "execution_count": 54,
      "outputs": [
        {
          "output_type": "execute_result",
          "data": {
            "text/plain": [
              "array([[ 965,    0,    0,    0,    0,    2,    4,    1,    8,    0],\n",
              "       [   0, 1098,    5,    5,    0,    2,    5,    0,   20,    0],\n",
              "       [  39,    1,  873,    3,   11,    0,   38,   15,   52,    0],\n",
              "       [  32,    7,   20,  839,    0,   44,    6,   17,   40,    5],\n",
              "       [   9,    2,    4,    0,  730,    1,   38,    7,    7,  184],\n",
              "       [  76,    4,    6,   46,   22,  684,   17,    3,   24,   10],\n",
              "       [  67,   10,   15,    0,    3,   21,  840,    0,    2,    0],\n",
              "       [   8,   14,   30,    1,    7,    0,    1,  892,   19,   56],\n",
              "       [  64,   10,    8,   16,    9,   30,   12,   23,  790,   12],\n",
              "       [  32,    6,    5,    8,   11,    7,    1,   62,   18,  859]])"
            ]
          },
          "metadata": {
            "tags": []
          },
          "execution_count": 54
        }
      ]
    },
    {
      "metadata": {
        "id": "iQkOStl2HTTt",
        "colab_type": "code",
        "colab": {
          "base_uri": "https://localhost:8080/",
          "height": 51
        },
        "outputId": "c90eb667-13c3-485e-c4ba-54bf99950da5"
      },
      "cell_type": "code",
      "source": [
        "val_accuracy = (y_val_pred==y_val_true).sum()/len(y_val_pred)\n",
        "test_accuracy = (y_test_pred==y_test_true).sum()/len(y_test_pred)\n",
        "print('Validation Accuracy = {0:.3f}'.format(val_accuracy))\n",
        "print('Test Accuracy = {0:.3f}'.format(test_accuracy))"
      ],
      "execution_count": 55,
      "outputs": [
        {
          "output_type": "stream",
          "text": [
            "Validation Accuracy = 0.847\n",
            "Test Accuracy = 0.857\n"
          ],
          "name": "stdout"
        }
      ]
    },
    {
      "metadata": {
        "id": "ncUmP8zDB0PR",
        "colab_type": "text"
      },
      "cell_type": "markdown",
      "source": [
        "### Error Images\n",
        "Let us take a look at the top mis-classified digits\n"
      ]
    },
    {
      "metadata": {
        "id": "83PhO_DlImsq",
        "colab_type": "code",
        "colab": {
          "base_uri": "https://localhost:8080/",
          "height": 606
        },
        "outputId": "4b1ab593-5716-4d0d-fd1b-6305d543931e"
      },
      "cell_type": "code",
      "source": [
        "error_idx = (y_test_pred!=y_test_true)\n",
        "X_test_err = X_test[error_idx,:]\n",
        "y_test_pred_err = y_test_pred[error_idx]\n",
        "y_test_true_err = y_test_true[error_idx]\n",
        "y_pred_err = y_pred[error_idx]\n",
        "\n",
        "\n",
        "y_pred_err_prob = np.max(y_pred_err, axis=1) # Probability of the incorrectly predicted number\n",
        "true_prob_err = y_pred_err[range(y_pred_err.shape[0]), y_test_true_err] # Probability of true values in the error set\n",
        "prob_diff = y_pred_err_prob - true_prob_err\n",
        "sorted_err_idx = np.argsort(-prob_diff)\n",
        "\n",
        "fig = plt.figure(figsize=(10, 10))\n",
        "for i in range(9):\n",
        "  axes = fig.add_subplot(3, 3, i+1)\n",
        "  image = np.asarray(X_test_err[sorted_err_idx[i],:].reshape(28, 28)).squeeze()\n",
        "  plt.imshow(image)\n",
        "  plt.title('True Digit: {0}, Predicted Digit: {1}'.format(y_test_true_err[sorted_err_idx[i]], y_test_pred_err[sorted_err_idx[i]]))\n",
        "\n",
        "plt.show()"
      ],
      "execution_count": 93,
      "outputs": [
        {
          "output_type": "display_data",
          "data": {
            "image/png": "[encoded data removed]",
            "text/plain": [
              "<Figure size 720x720 with 9 Axes>"
            ]
          },
          "metadata": {
            "tags": []
          }
        }
      ]
    },
    {
      "metadata": {
        "id": "94bTCB4yKezO",
        "colab_type": "text"
      },
      "cell_type": "markdown",
      "source": [
        "From the above mis-classification, we can see that the digits that are incorrectly classified are not clearly written. Few of them are slanted, we of them are broken. "
      ]
    },
    {
      "metadata": {
        "id": "kDsYOXw_3ru_",
        "colab_type": "text"
      },
      "cell_type": "markdown",
      "source": [
        "## Few Ideas to Enhance Model Prediction\n",
        "* Use Data Augmentation to include more training data. Data augmentation can be used to modify the existing images and use it for training. For example\n",
        "  * Scale the image (both increase and decrease)\n",
        "  * Shift the image off the center\n",
        "  * Rotate the image\n",
        "\n"
      ]
    }
  ]
}