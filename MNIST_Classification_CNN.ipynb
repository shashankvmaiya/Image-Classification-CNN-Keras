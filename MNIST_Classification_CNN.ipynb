{
  "nbformat": 4,
  "nbformat_minor": 0,
  "metadata": {
    "colab": {
      "name": "MNIST_Classification_CNN.ipynb",
      "version": "0.3.2",
      "provenance": [],
      "collapsed_sections": [],
      "toc_visible": true,
      "include_colab_link": true
    },
    "kernelspec": {
      "name": "python3",
      "display_name": "Python 3"
    },
    "accelerator": "TPU"
  },
  "cells": [
    {
      "cell_type": "markdown",
      "metadata": {
        "id": "view-in-github",
        "colab_type": "text"
      },
      "source": [
        "<a href=\"https://colab.research.google.com/github/shashankvmaiya/Image-Classification-CNN-Keras/blob/master/MNIST_Classification_CNN.ipynb\" target=\"_parent\"><img src=\"https://colab.research.google.com/assets/colab-badge.svg\" alt=\"Open In Colab\"/></a>"
      ]
    },
    {
      "metadata": {
        "id": "shAldMfcVoUz",
        "colab_type": "text"
      },
      "cell_type": "markdown",
      "source": [
        "# MNIST Images Classification with Convolutional Neural Networks & Keras"
      ]
    },
    {
      "metadata": {
        "id": "1WJ1i9dRV5Vy",
        "colab_type": "text"
      },
      "cell_type": "markdown",
      "source": [
        "## Introduction\n",
        "In this report, we will design a simple Convolutional Neural Network model using keras with tensorflow backend for the well known MNIST digit recognition task. \n"
      ]
    },
    {
      "metadata": {
        "id": "dcdpTop3WLwC",
        "colab_type": "text"
      },
      "cell_type": "markdown",
      "source": [
        "**Mounting Google Drive into Google Colab Workspace**  \n",
        "The data are all saved in my Google Drive "
      ]
    },
    {
      "metadata": {
        "id": "3YcoSGz7M_Qc",
        "colab_type": "code",
        "outputId": "9ea3f062-f036-40eb-f13c-b47704815556",
        "colab": {
          "base_uri": "https://localhost:8080/",
          "height": 34
        }
      },
      "cell_type": "code",
      "source": [
        "import sys\n",
        "from google.colab import drive\n",
        "drive.mount('/content/gdrive')\n",
        "sys.path.append('/content/gdrive/My Drive/Colab Notebooks')"
      ],
      "execution_count": 1,
      "outputs": [
        {
          "output_type": "stream",
          "text": [
            "Drive already mounted at /content/gdrive; to attempt to forcibly remount, call drive.mount(\"/content/gdrive\", force_remount=True).\n"
          ],
          "name": "stdout"
        }
      ]
    },
    {
      "metadata": {
        "id": "LmalRx3nWktS",
        "colab_type": "text"
      },
      "cell_type": "markdown",
      "source": [
        "**Imports**"
      ]
    },
    {
      "metadata": {
        "id": "f4LBvOj4Oin_",
        "colab_type": "code",
        "outputId": "94ac6932-b43c-47dc-cbc5-03b80326daec",
        "colab": {
          "base_uri": "https://localhost:8080/",
          "height": 34
        }
      },
      "cell_type": "code",
      "source": [
        "# Ignore  the warnings\n",
        "import warnings\n",
        "warnings.filterwarnings('always')\n",
        "warnings.filterwarnings('ignore')\n",
        "\n",
        "import numpy as np\n",
        "import pandas as pd\n",
        "import matplotlib.pyplot as plt\n",
        "import seaborn as sns\n",
        "import re\n",
        "import math\n",
        "import gzip\n",
        "import os.path\n",
        "rdm_seed = 29\n",
        "np.random.seed(rdm_seed)\n",
        "\n",
        "from sklearn.model_selection import train_test_split\n",
        "from sklearn.metrics import confusion_matrix\n",
        "import keras\n",
        "from keras.utils import np_utils\n",
        "from keras.models import Sequential\n",
        "from keras.layers import Dense, Dropout, Flatten, Conv2D, MaxPooling2D\n",
        "from keras.optimizers import SGD\n",
        "from keras.callbacks import ReduceLROnPlateau\n",
        "from keras.models import load_model\n"
      ],
      "execution_count": 2,
      "outputs": [
        {
          "output_type": "stream",
          "text": [
            "Using TensorFlow backend.\n"
          ],
          "name": "stderr"
        }
      ]
    },
    {
      "metadata": {
        "id": "PVWBThj4W5K-",
        "colab_type": "text"
      },
      "cell_type": "markdown",
      "source": [
        "### Loading the data\n",
        "Few details about the file format (obtained from [Original Host Website](http://yann.lecun.com/exdb/mnist/)) \n",
        "All the integers in the files are stored in the MSB first (high endian) format. There are 4 files containing {train, test} x {data, labels}. \n",
        "* train-images-idx3-ubyte.gz - contains training data (images)\n",
        "* train-labels-idx1-ubyte.gz - contains the training labels\n",
        "* t10k-images-idx3-ubyte.gz - contains the testing data (images)\n",
        "* t10k-labels-idx1-ubyte.tz - contains the testing labels\n",
        "\n",
        "The training set contains 60000 examples, and the test set 10000 examples. The data are all stored in uint8 format and zipped in .gz files. We use gzip tool to load the data and convert the data into np arrays.\n",
        "\n",
        "The data (image) files are stored as follows\n",
        "* The first 16 (8-bit) entries contain information about the image data\n",
        "  * data[6], data[7] store the number of images in the file\n",
        "  * data[11] contains the number of rows used to store each image\n",
        "  * data[15] contains the number of columns used to store each image\n",
        "The label files are stored as follows\n",
        "* The first 8 (8-bit) entries contain information about the label data\n",
        "  * data[6], data[7] contains the number of labels in the file"
      ]
    },
    {
      "metadata": {
        "id": "re1bll_bi7qJ",
        "colab_type": "code",
        "colab": {}
      },
      "cell_type": "code",
      "source": [
        "f = gzip.open('gdrive/My Drive/Colab Notebooks/MNIST_Data/train-labels-idx1-ubyte.gz','r')\n",
        "data = np.frombuffer(f.read(8), dtype=np.uint8).astype(np.int64)\n",
        "num_labels = data[6]*2**8+data[7]\n",
        "y_train = np.frombuffer(f.read(num_labels), dtype=np.uint8).astype(np.int64)\n",
        "y_train = pd.DataFrame(y_train, columns = ['Labels'])"
      ],
      "execution_count": 0,
      "outputs": []
    },
    {
      "metadata": {
        "id": "EzYRv_d6TpeI",
        "colab_type": "code",
        "colab": {}
      },
      "cell_type": "code",
      "source": [
        "f = gzip.open('gdrive/My Drive/Colab Notebooks/MNIST_Data/train-images-idx3-ubyte.gz','r')\n",
        "data = np.frombuffer(f.read(16), dtype=np.uint8).astype(np.int64)\n",
        "train_num_images = data[6]*2**8+data[7]\n",
        "train_image_size = [data[11], data[15]]\n",
        "buf = f.read(train_image_size[0] * train_image_size[1] * train_num_images)\n",
        "X_train = np.frombuffer(buf, dtype=np.uint8).astype(np.float32)\n",
        "X_train = X_train.reshape(train_num_images, train_image_size[0]*train_image_size[1])\n",
        "X_train = pd.DataFrame(X_train)"
      ],
      "execution_count": 0,
      "outputs": []
    },
    {
      "metadata": {
        "id": "VCtglG9TVPJE",
        "colab_type": "code",
        "colab": {}
      },
      "cell_type": "code",
      "source": [
        "f = gzip.open('gdrive/My Drive/Colab Notebooks/MNIST_Data/t10k-labels-idx1-ubyte.gz','r')\n",
        "data = np.frombuffer(f.read(8), dtype=np.uint8).astype(np.int64)\n",
        "num_labels = data[6]*2**8+data[7]\n",
        "y_test = np.frombuffer(f.read(num_labels), dtype=np.uint8).astype(np.int64)\n",
        "y_test = pd.DataFrame(y_test, columns = ['Labels'])"
      ],
      "execution_count": 0,
      "outputs": []
    },
    {
      "metadata": {
        "id": "DGIjQZRNVZ4a",
        "colab_type": "code",
        "colab": {}
      },
      "cell_type": "code",
      "source": [
        "f = gzip.open('gdrive/My Drive/Colab Notebooks/MNIST_Data/t10k-images-idx3-ubyte.gz','r')\n",
        "data = np.frombuffer(f.read(16), dtype=np.uint8).astype(np.int64)\n",
        "test_num_images = data[6]*2**8+data[7]\n",
        "test_image_size = [data[11], data[15]]\n",
        "buf = f.read(test_image_size[0] * test_image_size[1] * test_num_images)\n",
        "X_test = np.frombuffer(buf, dtype=np.uint8).astype(np.float32)\n",
        "X_test = X_test.reshape(test_num_images, test_image_size[0]*test_image_size[1])\n",
        "X_test = pd.DataFrame(X_test)"
      ],
      "execution_count": 0,
      "outputs": []
    },
    {
      "metadata": {
        "id": "xA5-rMwxbOUa",
        "colab_type": "text"
      },
      "cell_type": "markdown",
      "source": [
        "## Exploratory Data Analysis"
      ]
    },
    {
      "metadata": {
        "id": "IXu8o_VmbGNy",
        "colab_type": "text"
      },
      "cell_type": "markdown",
      "source": [
        "**Shape of training and testing data sets**"
      ]
    },
    {
      "metadata": {
        "id": "PZ-M-DTMYkna",
        "colab_type": "code",
        "outputId": "6fa6e270-2e30-414b-926e-9ec3a25e422c",
        "colab": {
          "base_uri": "https://localhost:8080/",
          "height": 85
        }
      },
      "cell_type": "code",
      "source": [
        "print('Shape of train data set: ', X_train.shape)\n",
        "print('Shape of train label set: ', y_train.shape)\n",
        "print('Shape of test data set: ', X_test.shape)\n",
        "print('Shape of test label set: ', y_test.shape)"
      ],
      "execution_count": 7,
      "outputs": [
        {
          "output_type": "stream",
          "text": [
            "Shape of train data set:  (60000, 784)\n",
            "Shape of train label set:  (60000, 1)\n",
            "Shape of test data set:  (10000, 784)\n",
            "Shape of test label set:  (10000, 1)\n"
          ],
          "name": "stdout"
        }
      ]
    },
    {
      "metadata": {
        "id": "iYviEMvqjxH0",
        "colab_type": "text"
      },
      "cell_type": "markdown",
      "source": [
        "### Missing Values"
      ]
    },
    {
      "metadata": {
        "id": "svJbxMUDeoLS",
        "colab_type": "code",
        "outputId": "54f87582-ebc1-4303-93f1-76362ae3d99a",
        "colab": {
          "base_uri": "https://localhost:8080/",
          "height": 51
        }
      },
      "cell_type": "code",
      "source": [
        "print('Does any of the training data set values contain Null data?', X_train.isnull().any().any())\n",
        "print('Does any of the test data set values contain Null data?', X_test.isnull().any().any())"
      ],
      "execution_count": 8,
      "outputs": [
        {
          "output_type": "stream",
          "text": [
            "Does any of the training data set values contain Null data? False\n",
            "Does any of the test data set values contain Null data? False\n"
          ],
          "name": "stdout"
        }
      ]
    },
    {
      "metadata": {
        "id": "QRiV9mNUknt2",
        "colab_type": "text"
      },
      "cell_type": "markdown",
      "source": [
        "None of the images seem to be corrupt and the dataset is clean with no NULL values. "
      ]
    },
    {
      "metadata": {
        "id": "QtYCJEutlBv9",
        "colab_type": "text"
      },
      "cell_type": "markdown",
      "source": [
        "### Distribution of Labels"
      ]
    },
    {
      "metadata": {
        "id": "yNTT5-KclF3v",
        "colab_type": "code",
        "outputId": "20e4901a-8d49-47ae-ea72-2e29029b3fa5",
        "colab": {
          "base_uri": "https://localhost:8080/",
          "height": 204
        }
      },
      "cell_type": "code",
      "source": [
        "y_train['Labels'].value_counts()"
      ],
      "execution_count": 9,
      "outputs": [
        {
          "output_type": "execute_result",
          "data": {
            "text/plain": [
              "1    6742\n",
              "7    6265\n",
              "3    6131\n",
              "2    5958\n",
              "9    5949\n",
              "0    5923\n",
              "6    5918\n",
              "8    5851\n",
              "4    5842\n",
              "5    5421\n",
              "Name: Labels, dtype: int64"
            ]
          },
          "metadata": {
            "tags": []
          },
          "execution_count": 9
        }
      ]
    },
    {
      "metadata": {
        "id": "J90J06Qflfxi",
        "colab_type": "code",
        "outputId": "5831bcd9-c374-4264-b350-de84311760c1",
        "colab": {
          "base_uri": "https://localhost:8080/",
          "height": 376
        }
      },
      "cell_type": "code",
      "source": [
        "sns.countplot(y_train['Labels'])\n",
        "plt.title('Number of occurences of each digit in the MNIST training data set')\n",
        "plt.show()"
      ],
      "execution_count": 10,
      "outputs": [
        {
          "output_type": "display_data",
          "data": {
            "image/png": "[encoded data removed]",
            "text/plain": [
              "<Figure size 576x396 with 1 Axes>"
            ]
          },
          "metadata": {
            "tags": []
          }
        }
      ]
    },
    {
      "metadata": {
        "id": "qEHkhc0WlpdJ",
        "colab_type": "text"
      },
      "cell_type": "markdown",
      "source": [
        "**Observations**\n",
        "* The disribution of each of the digits are fairly \n",
        "* Minimum occurence digit is 5 with count value of 5421 \n",
        "* Maximum occurence digit is 1 with count value of 6742 "
      ]
    },
    {
      "metadata": {
        "colab_type": "text",
        "id": "QYc-ZsSNWh3C"
      },
      "cell_type": "markdown",
      "source": [
        "### Image Plots\n",
        "Below are plots of the first 15 MSIT digit images and its corresponding labels as the title. "
      ]
    },
    {
      "metadata": {
        "id": "1Fuy0EcvqUU0",
        "colab_type": "code",
        "outputId": "c191d3f8-89f0-4591-c91e-b64ccd539732",
        "colab": {
          "base_uri": "https://localhost:8080/",
          "height": 623
        }
      },
      "cell_type": "code",
      "source": [
        "fig = plt.figure(figsize=(10, 10))\n",
        "for i in range(15):\n",
        "  axes = fig.add_subplot(3, 5, i+1)\n",
        "  image = np.asarray(X_train.loc[i,:].values.reshape(28, 28)).squeeze()\n",
        "  plt.imshow(image)\n",
        "  plt.title('Digit: {0}'.format(y_train.loc[i, 'Labels']))\n",
        "\n",
        "plt.tight_layout()\n",
        "plt.show()"
      ],
      "execution_count": 11,
      "outputs": [
        {
          "output_type": "display_data",
          "data": {
            "image/png": "[encoded data removed]",
            "text/plain": [
              "<Figure size 720x720 with 15 Axes>"
            ]
          },
          "metadata": {
            "tags": []
          }
        }
      ]
    },
    {
      "metadata": {
        "id": "1JgnKSO2k6YV",
        "colab_type": "text"
      },
      "cell_type": "markdown",
      "source": [
        "### Feature Engineering\n",
        "\n",
        "**Normalization**  \n",
        "The pixel values lie between 0 and 255. We normalize it to the range between 0 and 1 for better CNN convergence"
      ]
    },
    {
      "metadata": {
        "id": "ownzWhp6rfOm",
        "colab_type": "code",
        "colab": {}
      },
      "cell_type": "code",
      "source": [
        "X_train = X_train/255.0\n",
        "X_test = X_test/255.0"
      ],
      "execution_count": 0,
      "outputs": []
    },
    {
      "metadata": {
        "id": "ETYa_b7gtJlx",
        "colab_type": "text"
      },
      "cell_type": "markdown",
      "source": [
        "**One-Hot Encoding**  \n",
        "To use keras, we have to first one-hot encode the y-labels. This essentially converts each of the labels (which ranges from 0 to 9) into a 10-length binary vector with one and only one of the position = 1 (which corresponds to the label value)"
      ]
    },
    {
      "metadata": {
        "id": "_AYf2V0LsZoI",
        "colab_type": "text"
      },
      "cell_type": "markdown",
      "source": [
        "**Reshaping**  \n",
        "All the images stored in pandas DataFrame is in the form 1D Vectors of length 784 (= 28x28). We reshape them all to 28x28x1 3D matrix. Keras requires an extra dimension in the end which correspond to channels. MNIST images are gray scaled so it use only one channel. For RGB images, there is 3 channels, we would have reshaped 784px vectors to 28x28x3 3D matrices"
      ]
    },
    {
      "metadata": {
        "id": "pdRRLuY2vpxI",
        "colab_type": "code",
        "colab": {}
      },
      "cell_type": "code",
      "source": [
        "y_train = np_utils.to_categorical(y_train, num_classes = 10)\n",
        "y_test = np_utils.to_categorical(y_test, num_classes = 10)"
      ],
      "execution_count": 0,
      "outputs": []
    },
    {
      "metadata": {
        "id": "Guf0C42ns6Gy",
        "colab_type": "code",
        "colab": {}
      },
      "cell_type": "code",
      "source": [
        "X_train = X_train.values.reshape(-1, 28, 28, 1)\n",
        "X_test = X_test.values.reshape(-1, 28, 28, 1)"
      ],
      "execution_count": 0,
      "outputs": []
    },
    {
      "metadata": {
        "id": "Sj_Q3AzItwI-",
        "colab_type": "code",
        "outputId": "ae1f0e93-8499-46ca-fb5e-18cb0352b075",
        "colab": {
          "base_uri": "https://localhost:8080/",
          "height": 85
        }
      },
      "cell_type": "code",
      "source": [
        "print('Shape of train data set: ', X_train.shape)\n",
        "print('Shape of train label set: ', y_train.shape)\n",
        "print('Shape of test data set: ', X_test.shape)\n",
        "print('Shape of test label set: ', y_test.shape)"
      ],
      "execution_count": 15,
      "outputs": [
        {
          "output_type": "stream",
          "text": [
            "Shape of train data set:  (60000, 28, 28, 1)\n",
            "Shape of train label set:  (60000, 10)\n",
            "Shape of test data set:  (10000, 28, 28, 1)\n",
            "Shape of test label set:  (10000, 10)\n"
          ],
          "name": "stdout"
        }
      ]
    },
    {
      "metadata": {
        "id": "oqKNcbjagf_U",
        "colab_type": "text"
      },
      "cell_type": "markdown",
      "source": [
        "## Modeling"
      ]
    },
    {
      "metadata": {
        "id": "1C-HKAQvxEmf",
        "colab_type": "text"
      },
      "cell_type": "markdown",
      "source": [
        "### Train-Validation Split\n",
        "Let us split the dataset with 90% as the training data set and the remaining 10% as our validation set. We use train_test_split since all the labels are more or less evenly occuring. Else we could have used stratified split"
      ]
    },
    {
      "metadata": {
        "id": "Spi5wgzzwjNA",
        "colab_type": "code",
        "colab": {}
      },
      "cell_type": "code",
      "source": [
        "X_train, X_val, y_train, y_val = train_test_split(X_train, y_train, test_size = 0.1, random_state=rdm_seed)"
      ],
      "execution_count": 0,
      "outputs": []
    },
    {
      "metadata": {
        "id": "qTxmSJvF3yX4",
        "colab_type": "text"
      },
      "cell_type": "markdown",
      "source": [
        "### CNN Model\n",
        "Below is a summary of the model\n",
        "1.   First Convolutional Layer: Uses 32 (3x3) kernel Filters\n",
        "  * Input = Image as a num_images x 28x28x1 matrix (num_rows = 28, num_columns = 28 and num_channels = 1)\n",
        "  * Number of filters = 32\n",
        "  * Kernel = 3x3\n",
        "  * maxPooling2D with stride of 2 to reduce the dimensionality of num_rows and num_columns by 2\n",
        "  * Dropout of 20% to randomly null out neurons to avoid over-fit\n",
        "  * Activation Function = ReLu(x) = max(0, x)\n",
        "  * Output = 14x14x32  \n",
        "  \n",
        "2.   Second Convolutional Layer\n",
        "  * Input = 14x14x32\n",
        "  * Number of filters = 128\n",
        "  * Kernel = 3x3\n",
        "  * maxPooling2D wtih stride = 2\n",
        "  * Activation Function = ReLu(x)\n",
        "  * Output = 7x7x128\n",
        "  \n",
        "3. Flatten\n",
        "  * Input = 7x7x128\n",
        "  * Output = 1x6272\n",
        "\n",
        "4. Dense Fully Connected Layer\n",
        "  * Input: 1x6272\n",
        "  * Dropout of 20% to randomly null out neurons to avoid over-fit\n",
        "  * Activation Function = ReLu(x)\n",
        "  * Output: 1x1000\n",
        "  \n",
        "5. Dense Fully Connected Layer\n",
        "  * Input: 1x1000\n",
        "  * Dropout of 50% to randomly null out neurons to avoid over-fit\n",
        "  * Activation Function = ReLu(x)\n",
        "  * Output: 1x500\n",
        " \n",
        "6. Output Layer\n",
        "  * Input: 1x500\n",
        "  * Activation Function = Softmax\n",
        "  * Output: 1x10"
      ]
    },
    {
      "metadata": {
        "id": "XA5NhtCNwkWz",
        "colab_type": "code",
        "outputId": "492d1ec7-64d2-4649-c80c-2daec77fbcf0",
        "colab": {
          "base_uri": "https://localhost:8080/",
          "height": 139
        }
      },
      "cell_type": "code",
      "source": [
        "model = Sequential()\n",
        "model.add(Conv2D(filters = 32, kernel_size = (3,3), padding = 'Same', activation ='relu', input_shape = (28,28,1)))\n",
        "model.add(MaxPooling2D(pool_size=(2,2), strides=(2,2)))\n",
        "model.add(Dropout(0.2))\n",
        "model.add(Conv2D(filters = 128, kernel_size = (3,3), padding = 'Same', activation ='relu'))\n",
        "model.add(MaxPooling2D(pool_size=(2,2), strides=(2,2)))\n",
        "#model.add(Conv2D(filters = 512, kernel_size = (3,3), padding = 'Same', activation ='relu'))\n",
        "#model.add(Dropout(0.2))\n",
        "model.add(Flatten())\n",
        "model.add(Dense(1000, activation = \"relu\"))\n",
        "model.add(Dropout(0.2))\n",
        "model.add(Dense(500, activation = \"relu\"))\n",
        "model.add(Dropout(0.5))\n",
        "model.add(Dense(10, activation = \"softmax\"))\n",
        "\n",
        "lr_reduction = ReduceLROnPlateau(monitor='val_acc', \n",
        "                                            patience=3, \n",
        "                                            verbose=1, \n",
        "                                            factor=0.5, \n",
        "                                            min_lr=0.0001)\n",
        "sgd_optimizer = SGD(lr = 0.01)\n",
        "model.compile(loss='categorical_crossentropy', optimizer='adam', metrics=['accuracy'])"
      ],
      "execution_count": 17,
      "outputs": [
        {
          "output_type": "stream",
          "text": [
            "WARNING:tensorflow:From /usr/local/lib/python3.6/dist-packages/tensorflow/python/framework/op_def_library.py:263: colocate_with (from tensorflow.python.framework.ops) is deprecated and will be removed in a future version.\n",
            "Instructions for updating:\n",
            "Colocations handled automatically by placer.\n",
            "WARNING:tensorflow:From /usr/local/lib/python3.6/dist-packages/keras/backend/tensorflow_backend.py:3445: calling dropout (from tensorflow.python.ops.nn_ops) with keep_prob is deprecated and will be removed in a future version.\n",
            "Instructions for updating:\n",
            "Please use `rate` instead of `keep_prob`. Rate should be set to `rate = 1 - keep_prob`.\n"
          ],
          "name": "stdout"
        }
      ]
    },
    {
      "metadata": {
        "id": "8MEbo4uGE2ir",
        "colab_type": "code",
        "outputId": "562b506a-fc5d-4d3d-adc4-be9045b29a90",
        "colab": {
          "base_uri": "https://localhost:8080/",
          "height": 510
        }
      },
      "cell_type": "code",
      "source": [
        "model.summary()"
      ],
      "execution_count": 18,
      "outputs": [
        {
          "output_type": "stream",
          "text": [
            "_________________________________________________________________\n",
            "Layer (type)                 Output Shape              Param #   \n",
            "=================================================================\n",
            "conv2d_1 (Conv2D)            (None, 28, 28, 32)        320       \n",
            "_________________________________________________________________\n",
            "max_pooling2d_1 (MaxPooling2 (None, 14, 14, 32)        0         \n",
            "_________________________________________________________________\n",
            "dropout_1 (Dropout)          (None, 14, 14, 32)        0         \n",
            "_________________________________________________________________\n",
            "conv2d_2 (Conv2D)            (None, 14, 14, 128)       36992     \n",
            "_________________________________________________________________\n",
            "max_pooling2d_2 (MaxPooling2 (None, 7, 7, 128)         0         \n",
            "_________________________________________________________________\n",
            "flatten_1 (Flatten)          (None, 6272)              0         \n",
            "_________________________________________________________________\n",
            "dense_1 (Dense)              (None, 1000)              6273000   \n",
            "_________________________________________________________________\n",
            "dropout_2 (Dropout)          (None, 1000)              0         \n",
            "_________________________________________________________________\n",
            "dense_2 (Dense)              (None, 500)               500500    \n",
            "_________________________________________________________________\n",
            "dropout_3 (Dropout)          (None, 500)               0         \n",
            "_________________________________________________________________\n",
            "dense_3 (Dense)              (None, 10)                5010      \n",
            "=================================================================\n",
            "Total params: 6,815,822\n",
            "Trainable params: 6,815,822\n",
            "Non-trainable params: 0\n",
            "_________________________________________________________________\n"
          ],
          "name": "stdout"
        }
      ]
    },
    {
      "metadata": {
        "id": "gL9pcYvKwkfR",
        "colab_type": "code",
        "colab": {}
      },
      "cell_type": "code",
      "source": [
        "epochs = 10\n",
        "batch_size = 128"
      ],
      "execution_count": 0,
      "outputs": []
    },
    {
      "metadata": {
        "id": "wTgjnGh-wkmN",
        "colab_type": "code",
        "colab": {
          "base_uri": "https://localhost:8080/",
          "height": 496
        },
        "outputId": "ccda12a9-d24f-4b2a-91b0-7e417a90fcde"
      },
      "cell_type": "code",
      "source": [
        "generate_model = 1\n",
        "if generate_model:\n",
        "  model.fit(X_train, y_train,\n",
        "            batch_size=batch_size,\n",
        "            epochs=epochs,\n",
        "            verbose=1,\n",
        "            validation_data=(X_val, y_val),\n",
        "            callbacks=[lr_reduction])\n",
        "\n",
        "  # Saving the model\n",
        "  save_dir = \"gdrive/My Drive/Colab Notebooks/MNIST_Data/\"\n",
        "  model_name = 'keras_mnist.h5'\n",
        "  model_path = os.path.join(save_dir, model_name)\n",
        "  model.save(model_path)\n",
        "  print('Saved trained model at {0} '.format(model_path))"
      ],
      "execution_count": 20,
      "outputs": [
        {
          "output_type": "stream",
          "text": [
            "WARNING:tensorflow:From /usr/local/lib/python3.6/dist-packages/tensorflow/python/ops/math_ops.py:3066: to_int32 (from tensorflow.python.ops.math_ops) is deprecated and will be removed in a future version.\n",
            "Instructions for updating:\n",
            "Use tf.cast instead.\n",
            "Train on 54000 samples, validate on 6000 samples\n",
            "Epoch 1/10\n",
            "54000/54000 [==============================] - 184s 3ms/step - loss: 0.1897 - acc: 0.9389 - val_loss: 0.0484 - val_acc: 0.9855\n",
            "Epoch 2/10\n",
            "54000/54000 [==============================] - 182s 3ms/step - loss: 0.0528 - acc: 0.9841 - val_loss: 0.0423 - val_acc: 0.9863\n",
            "Epoch 3/10\n",
            "54000/54000 [==============================] - 183s 3ms/step - loss: 0.0396 - acc: 0.9877 - val_loss: 0.0391 - val_acc: 0.9875\n",
            "Epoch 4/10\n",
            "54000/54000 [==============================] - 183s 3ms/step - loss: 0.0295 - acc: 0.9908 - val_loss: 0.0282 - val_acc: 0.9913\n",
            "Epoch 5/10\n",
            "54000/54000 [==============================] - 183s 3ms/step - loss: 0.0228 - acc: 0.9929 - val_loss: 0.0302 - val_acc: 0.9918\n",
            "Epoch 6/10\n",
            "54000/54000 [==============================] - 182s 3ms/step - loss: 0.0192 - acc: 0.9939 - val_loss: 0.0349 - val_acc: 0.9908\n",
            "Epoch 7/10\n",
            "54000/54000 [==============================] - 182s 3ms/step - loss: 0.0168 - acc: 0.9947 - val_loss: 0.0344 - val_acc: 0.9905\n",
            "Epoch 8/10\n",
            "54000/54000 [==============================] - 181s 3ms/step - loss: 0.0144 - acc: 0.9954 - val_loss: 0.0446 - val_acc: 0.9902\n",
            "\n",
            "Epoch 00008: ReduceLROnPlateau reducing learning rate to 0.0005000000237487257.\n",
            "Epoch 9/10\n",
            "54000/54000 [==============================] - 181s 3ms/step - loss: 0.0059 - acc: 0.9983 - val_loss: 0.0338 - val_acc: 0.9933\n",
            "Epoch 10/10\n",
            "54000/54000 [==============================] - 181s 3ms/step - loss: 0.0051 - acc: 0.9983 - val_loss: 0.0322 - val_acc: 0.9942\n",
            "Saved trained model at gdrive/My Drive/Colab Notebooks/MNIST_Data/keras_mnist.h5 \n"
          ],
          "name": "stdout"
        }
      ]
    },
    {
      "metadata": {
        "id": "rPPsozGlBqv8",
        "colab_type": "text"
      },
      "cell_type": "markdown",
      "source": [
        "### Model Evaluation"
      ]
    },
    {
      "metadata": {
        "id": "zsK9P-QnwlAS",
        "colab_type": "code",
        "colab": {}
      },
      "cell_type": "code",
      "source": [
        "model_path = \"gdrive/My Drive/Colab Notebooks/MNIST_Data/keras_mnist.h5\"\n",
        "mnist_model = load_model(model_path)"
      ],
      "execution_count": 0,
      "outputs": []
    },
    {
      "metadata": {
        "id": "VgjicWSeF5Bu",
        "colab_type": "code",
        "colab": {}
      },
      "cell_type": "code",
      "source": [
        "y_pred = mnist_model.predict(X_val)"
      ],
      "execution_count": 0,
      "outputs": []
    },
    {
      "metadata": {
        "id": "rM-nD7VSGQRi",
        "colab_type": "code",
        "outputId": "a1ee6130-71d1-4ee2-dbd3-73afdea156a4",
        "colab": {
          "base_uri": "https://localhost:8080/",
          "height": 187
        }
      },
      "cell_type": "code",
      "source": [
        "y_val_pred = np.argmax(y_pred, axis=1)\n",
        "y_val_true = np.argmax(y_val, axis=1)\n",
        "confusion_matrix(y_val_true, y_val_pred)"
      ],
      "execution_count": 23,
      "outputs": [
        {
          "output_type": "execute_result",
          "data": {
            "text/plain": [
              "array([[640,   0,   0,   0,   0,   0,   0,   0,   0,   0],\n",
              "       [  0, 650,   2,   0,   0,   0,   1,   0,   0,   0],\n",
              "       [  0,   0, 592,   0,   0,   0,   0,   4,   0,   0],\n",
              "       [  0,   0,   1, 629,   0,   3,   0,   0,   0,   0],\n",
              "       [  0,   2,   0,   0, 570,   0,   0,   0,   2,   1],\n",
              "       [  0,   0,   0,   1,   0, 555,   1,   0,   1,   0],\n",
              "       [  1,   1,   0,   0,   0,   0, 583,   0,   1,   0],\n",
              "       [  1,   1,   1,   0,   1,   0,   0, 572,   0,   1],\n",
              "       [  1,   0,   1,   1,   0,   0,   0,   0, 595,   1],\n",
              "       [  0,   0,   0,   0,   2,   1,   0,   1,   0, 579]])"
            ]
          },
          "metadata": {
            "tags": []
          },
          "execution_count": 23
        }
      ]
    },
    {
      "metadata": {
        "id": "-h5t1yfBGpPV",
        "colab_type": "code",
        "colab": {}
      },
      "cell_type": "code",
      "source": [
        "y_pred = mnist_model.predict(X_test)"
      ],
      "execution_count": 0,
      "outputs": []
    },
    {
      "metadata": {
        "id": "zmjYRT3NGvBL",
        "colab_type": "code",
        "outputId": "586588f9-e757-44b3-a150-b7e11c0c5ec5",
        "colab": {
          "base_uri": "https://localhost:8080/",
          "height": 187
        }
      },
      "cell_type": "code",
      "source": [
        "y_test_pred = np.argmax(y_pred, axis=1)\n",
        "y_test_true = np.argmax(y_test, axis=1)\n",
        "confusion_matrix(y_test_true, y_test_pred)"
      ],
      "execution_count": 25,
      "outputs": [
        {
          "output_type": "execute_result",
          "data": {
            "text/plain": [
              "array([[ 978,    0,    0,    0,    0,    0,    0,    1,    1,    0],\n",
              "       [   0, 1134,    0,    0,    0,    0,    0,    0,    1,    0],\n",
              "       [   1,    0, 1026,    0,    0,    0,    0,    4,    1,    0],\n",
              "       [   0,    0,    0, 1005,    0,    3,    0,    0,    2,    0],\n",
              "       [   0,    1,    0,    0,  976,    0,    1,    0,    1,    3],\n",
              "       [   2,    0,    0,    4,    0,  884,    1,    0,    1,    0],\n",
              "       [   3,    2,    0,    0,    1,    0,  951,    0,    1,    0],\n",
              "       [   0,    2,    2,    0,    0,    0,    0, 1020,    1,    3],\n",
              "       [   3,    0,    1,    0,    0,    0,    0,    0,  969,    1],\n",
              "       [   0,    1,    0,    0,    7,    3,    0,    4,    2,  992]])"
            ]
          },
          "metadata": {
            "tags": []
          },
          "execution_count": 25
        }
      ]
    },
    {
      "metadata": {
        "id": "J1-7eG6wgeEm",
        "colab_type": "text"
      },
      "cell_type": "markdown",
      "source": [
        "We can see that the most common mis-classified digits are from 9 to 4 and 5 to 3"
      ]
    },
    {
      "metadata": {
        "id": "iQkOStl2HTTt",
        "colab_type": "code",
        "outputId": "9df6e21a-0a96-422e-fdef-aedf180a9d02",
        "colab": {
          "base_uri": "https://localhost:8080/",
          "height": 51
        }
      },
      "cell_type": "code",
      "source": [
        "val_accuracy = (y_val_pred==y_val_true).sum()/len(y_val_pred)\n",
        "test_accuracy = (y_test_pred==y_test_true).sum()/len(y_test_pred)\n",
        "print('Validation Accuracy = {0:.3f}'.format(val_accuracy))\n",
        "print('Test Accuracy = {0:.3f}'.format(test_accuracy))"
      ],
      "execution_count": 26,
      "outputs": [
        {
          "output_type": "stream",
          "text": [
            "Validation Accuracy = 0.994\n",
            "Test Accuracy = 0.994\n"
          ],
          "name": "stdout"
        }
      ]
    },
    {
      "metadata": {
        "id": "ncUmP8zDB0PR",
        "colab_type": "text"
      },
      "cell_type": "markdown",
      "source": [
        "### Error Images\n",
        "Let us take a look at the top mis-classified digits\n"
      ]
    },
    {
      "metadata": {
        "id": "83PhO_DlImsq",
        "colab_type": "code",
        "outputId": "b41c3f5f-b81c-475d-b3fc-9a1854235863",
        "colab": {
          "base_uri": "https://localhost:8080/",
          "height": 725
        }
      },
      "cell_type": "code",
      "source": [
        "error_idx = (y_test_pred!=y_test_true)\n",
        "X_test_err = X_test[error_idx,:]\n",
        "y_test_pred_err = y_test_pred[error_idx]\n",
        "y_test_true_err = y_test_true[error_idx]\n",
        "y_pred_err = y_pred[error_idx]\n",
        "\n",
        "\n",
        "y_pred_err_prob = np.max(y_pred_err, axis=1) # Probability of the incorrectly predicted number\n",
        "true_prob_err = y_pred_err[range(y_pred_err.shape[0]), y_test_true_err] # Probability of true values in the error set\n",
        "prob_diff = y_pred_err_prob - true_prob_err\n",
        "sorted_err_idx = np.argsort(-prob_diff)\n",
        "\n",
        "fig = plt.figure(figsize=(10, 10))\n",
        "for i in range(16):\n",
        "  axes = fig.add_subplot(4, 4, i+1)\n",
        "  image = np.asarray(X_test_err[sorted_err_idx[i],:].reshape(28, 28)).squeeze()\n",
        "  plt.imshow(image)\n",
        "  plt.title('True Digit: {0} \\nPredicted Digit: {1}'.format(y_test_true_err[sorted_err_idx[i]], y_test_pred_err[sorted_err_idx[i]]))\n",
        "\n",
        "plt.tight_layout()\n",
        "plt.show()"
      ],
      "execution_count": 29,
      "outputs": [
        {
          "output_type": "display_data",
          "data": {
            "image/png": "[encoded data removed]",
            "text/plain": [
              "<Figure size 720x720 with 16 Axes>"
            ]
          },
          "metadata": {
            "tags": []
          }
        }
      ]
    },
    {
      "metadata": {
        "id": "94bTCB4yKezO",
        "colab_type": "text"
      },
      "cell_type": "markdown",
      "source": [
        "From the above mis-classification, we can see that the digits that are incorrectly classified are not clearly written. Few of them are slanted, we of them are broken. "
      ]
    },
    {
      "metadata": {
        "id": "kDsYOXw_3ru_",
        "colab_type": "text"
      },
      "cell_type": "markdown",
      "source": [
        "## Conclusions\n",
        "We built a Convolutional Neural Network model to predict MNIST handwritten digits. The model uses 2 convolutional layers with ReLu activation function (for non-linearization) and max-pooling (for dimensionality reduction by extracting dominant features). The data is then fed to a 2 dense and fully connected neural network layers which again uses Relu activation function. Finally, we use a softmax activation function at the output layer to make decisions on the 10 possible digit outcomes. Below is a short summary of the conclusions made\n",
        "* The model predicts the digit correctly with an accuracy of 99.4% (the occurence of digits are evenly distributed. Hence accuracy is a good metric for performance)\n",
        "* Most mis-classified digits are from 9 to 4\n",
        "\n",
        "\n"
      ]
    },
    {
      "metadata": {
        "id": "QrOJMFqWYRKV",
        "colab_type": "text"
      },
      "cell_type": "markdown",
      "source": [
        "### Ideas to improve model predictions\n",
        "* Use Data Augmentation to include more training data. Data augmentation can be used to modify the existing images and use it for training. For example\n",
        "  * Scale the image (both increase and decrease)\n",
        "  * Shift the image off the center\n",
        "  * Rotate the image"
      ]
    }
  ]
}